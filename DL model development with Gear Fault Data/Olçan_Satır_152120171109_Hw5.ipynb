{
  "nbformat": 4,
  "nbformat_minor": 0,
  "metadata": {
    "colab": {
      "provenance": []
    },
    "kernelspec": {
      "name": "python3",
      "display_name": "Python 3"
    },
    "language_info": {
      "name": "python"
    }
  },
  "cells": [
    {
      "cell_type": "code",
      "execution_count": 1,
      "metadata": {
        "id": "BtDrFY2C_Au2",
        "colab": {
          "base_uri": "https://localhost:8080/"
        },
        "outputId": "b87a71d0-0f3c-4939-d4bb-03306b4a0103"
      },
      "outputs": [
        {
          "output_type": "stream",
          "name": "stdout",
          "text": [
            "Mounted at /content/drive\n"
          ]
        }
      ],
      "source": [
        "if 1:\n",
        "    from google.colab import drive\n",
        "    drive.mount('/content/drive')"
      ]
    },
    {
      "cell_type": "code",
      "source": [
        "if 1:\n",
        "    !cp -r /content/drive/MyDrive/HomeWork5 /content/"
      ],
      "metadata": {
        "id": "CmAQefK__M6O"
      },
      "execution_count": 2,
      "outputs": []
    },
    {
      "cell_type": "code",
      "source": [
        "!pip install tensorflow-addons"
      ],
      "metadata": {
        "colab": {
          "base_uri": "https://localhost:8080/"
        },
        "id": "q7sG9VPv_SWU",
        "outputId": "3d44bc83-42a2-45aa-b7fb-2a3eb95386ab"
      },
      "execution_count": 3,
      "outputs": [
        {
          "output_type": "stream",
          "name": "stdout",
          "text": [
            "Looking in indexes: https://pypi.org/simple, https://us-python.pkg.dev/colab-wheels/public/simple/\n",
            "Collecting tensorflow-addons\n",
            "  Downloading tensorflow_addons-0.19.0-cp38-cp38-manylinux_2_17_x86_64.manylinux2014_x86_64.whl (1.1 MB)\n",
            "\u001b[K     |████████████████████████████████| 1.1 MB 21.0 MB/s \n",
            "\u001b[?25hRequirement already satisfied: typeguard>=2.7 in /usr/local/lib/python3.8/dist-packages (from tensorflow-addons) (2.7.1)\n",
            "Requirement already satisfied: packaging in /usr/local/lib/python3.8/dist-packages (from tensorflow-addons) (21.3)\n",
            "Requirement already satisfied: pyparsing!=3.0.5,>=2.0.2 in /usr/local/lib/python3.8/dist-packages (from packaging->tensorflow-addons) (3.0.9)\n",
            "Installing collected packages: tensorflow-addons\n",
            "Successfully installed tensorflow-addons-0.19.0\n"
          ]
        }
      ]
    },
    {
      "cell_type": "code",
      "source": [
        "# This Python 3 environment comes with many helpful analytics libraries installed\n",
        "# It is defined by the kaggle/python docker image: https://github.com/kaggle/docker-python\n",
        "# For example, here's several helpful packages to load in \n",
        "\n",
        "import numpy as np # linear algebra\n",
        "import pandas as pd # data processing, CSV file I/O (e.g. pd.read_csv)\n",
        "import keras \n",
        "from keras.models import Sequential\n",
        "from keras.layers import Conv2D, Dense, MaxPool2D, Dropout, Flatten\n",
        "from keras.optimizers import Adam\n",
        "from keras.preprocessing.image import ImageDataGenerator\n",
        "from keras.callbacks import ReduceLROnPlateau\n",
        "from sklearn.model_selection import train_test_split\n",
        "import matplotlib.pyplot as plt\n",
        "import seaborn as sns\n",
        "from sklearn.metrics import accuracy_score,precision_score,recall_score,f1_score,confusion_matrix\n",
        "from mlxtend.plotting import plot_confusion_matrix\n",
        "from sklearn.metrics import classification_report\n",
        "import tensorflow_addons as tfa\n",
        "from keras import layers\n",
        "import tensorflow as tf\n",
        "\n",
        "\n",
        "# Input data files are available in the \"/content/digit-recognizer/\" directory.\n",
        "# For example, running this (by clicking run or pressing Shift+Enter) will list the files in the input directory\n",
        "\n",
        "import os\n",
        "\n",
        "\n",
        "# Any results you write to the current directory are saved as output."
      ],
      "metadata": {
        "id": "znJlyI_r_Tf1"
      },
      "execution_count": 4,
      "outputs": []
    },
    {
      "cell_type": "markdown",
      "source": [
        "# Load Data"
      ],
      "metadata": {
        "id": "1Aj6GN5WN61I"
      }
    },
    {
      "cell_type": "code",
      "source": [
        "X_train = np.load('/content/HomeWork5/data/DataForClassification_TimeDomain.npy')\n",
        "X_train = np.transpose(X_train)\n",
        "print(X_train.shape)"
      ],
      "metadata": {
        "colab": {
          "base_uri": "https://localhost:8080/"
        },
        "id": "0Ns6GGk3_XYZ",
        "outputId": "591e9a06-997c-4303-b22d-dd42ddcdd9d4"
      },
      "execution_count": 5,
      "outputs": [
        {
          "output_type": "stream",
          "name": "stdout",
          "text": [
            "(936, 3600)\n"
          ]
        }
      ]
    },
    {
      "cell_type": "code",
      "source": [
        "Y_train = np.zeros((936,1))\n",
        "label=0\n",
        "print(label)\n",
        "for i in range(936):\n",
        "\n",
        "  Y_train[i]=label\n",
        "  if (i%104==0) and (i!=0):\n",
        "     label = label +1\n",
        "     print(label)"
      ],
      "metadata": {
        "colab": {
          "base_uri": "https://localhost:8080/"
        },
        "id": "MXQ1Bu9M_bNU",
        "outputId": "e69ee928-1c43-44d2-9403-6b6caa76a211"
      },
      "execution_count": 6,
      "outputs": [
        {
          "output_type": "stream",
          "name": "stdout",
          "text": [
            "0\n",
            "1\n",
            "2\n",
            "3\n",
            "4\n",
            "5\n",
            "6\n",
            "7\n",
            "8\n"
          ]
        }
      ]
    },
    {
      "cell_type": "code",
      "source": [
        "Y_train[104:103*2]"
      ],
      "metadata": {
        "colab": {
          "base_uri": "https://localhost:8080/"
        },
        "id": "XsNZLRp1_dj4",
        "outputId": "96566a89-e2e0-404b-a64f-ba3226b36241"
      },
      "execution_count": 7,
      "outputs": [
        {
          "output_type": "execute_result",
          "data": {
            "text/plain": [
              "array([[0.],\n",
              "       [1.],\n",
              "       [1.],\n",
              "       [1.],\n",
              "       [1.],\n",
              "       [1.],\n",
              "       [1.],\n",
              "       [1.],\n",
              "       [1.],\n",
              "       [1.],\n",
              "       [1.],\n",
              "       [1.],\n",
              "       [1.],\n",
              "       [1.],\n",
              "       [1.],\n",
              "       [1.],\n",
              "       [1.],\n",
              "       [1.],\n",
              "       [1.],\n",
              "       [1.],\n",
              "       [1.],\n",
              "       [1.],\n",
              "       [1.],\n",
              "       [1.],\n",
              "       [1.],\n",
              "       [1.],\n",
              "       [1.],\n",
              "       [1.],\n",
              "       [1.],\n",
              "       [1.],\n",
              "       [1.],\n",
              "       [1.],\n",
              "       [1.],\n",
              "       [1.],\n",
              "       [1.],\n",
              "       [1.],\n",
              "       [1.],\n",
              "       [1.],\n",
              "       [1.],\n",
              "       [1.],\n",
              "       [1.],\n",
              "       [1.],\n",
              "       [1.],\n",
              "       [1.],\n",
              "       [1.],\n",
              "       [1.],\n",
              "       [1.],\n",
              "       [1.],\n",
              "       [1.],\n",
              "       [1.],\n",
              "       [1.],\n",
              "       [1.],\n",
              "       [1.],\n",
              "       [1.],\n",
              "       [1.],\n",
              "       [1.],\n",
              "       [1.],\n",
              "       [1.],\n",
              "       [1.],\n",
              "       [1.],\n",
              "       [1.],\n",
              "       [1.],\n",
              "       [1.],\n",
              "       [1.],\n",
              "       [1.],\n",
              "       [1.],\n",
              "       [1.],\n",
              "       [1.],\n",
              "       [1.],\n",
              "       [1.],\n",
              "       [1.],\n",
              "       [1.],\n",
              "       [1.],\n",
              "       [1.],\n",
              "       [1.],\n",
              "       [1.],\n",
              "       [1.],\n",
              "       [1.],\n",
              "       [1.],\n",
              "       [1.],\n",
              "       [1.],\n",
              "       [1.],\n",
              "       [1.],\n",
              "       [1.],\n",
              "       [1.],\n",
              "       [1.],\n",
              "       [1.],\n",
              "       [1.],\n",
              "       [1.],\n",
              "       [1.],\n",
              "       [1.],\n",
              "       [1.],\n",
              "       [1.],\n",
              "       [1.],\n",
              "       [1.],\n",
              "       [1.],\n",
              "       [1.],\n",
              "       [1.],\n",
              "       [1.],\n",
              "       [1.],\n",
              "       [1.],\n",
              "       [1.]])"
            ]
          },
          "metadata": {},
          "execution_count": 7
        }
      ]
    },
    {
      "cell_type": "code",
      "source": [
        "X_train = np.array(X_train)\n",
        "Y_train = np.array(Y_train)"
      ],
      "metadata": {
        "id": "fCQUkqcH_eoK"
      },
      "execution_count": 8,
      "outputs": []
    },
    {
      "cell_type": "code",
      "source": [
        "Y_train = tf.keras.utils.to_categorical(Y_train, num_classes = 9)\n",
        "print(Y_train[101,:])"
      ],
      "metadata": {
        "colab": {
          "base_uri": "https://localhost:8080/"
        },
        "id": "Q0bv4PTs_gI7",
        "outputId": "8ba42d75-d11e-4b43-f45e-5840b521b59c"
      },
      "execution_count": 9,
      "outputs": [
        {
          "output_type": "stream",
          "name": "stdout",
          "text": [
            "[1. 0. 0. 0. 0. 0. 0. 0. 0.]\n"
          ]
        }
      ]
    },
    {
      "cell_type": "markdown",
      "source": [
        "# Plot Digits"
      ],
      "metadata": {
        "id": "XoLb0qAfOCNY"
      }
    },
    {
      "cell_type": "code",
      "source": [
        "#Train-Test Split\n",
        "X_dev, X_test, Y_dev, Y_test = train_test_split(X_train, Y_train, test_size=0.2, shuffle=True, random_state=45) # % 80 train % 20 test \n",
        "\n",
        "X_train, X_val, Y_train, Y_val = train_test_split(X_dev, Y_dev, test_size=0.125, shuffle=True, random_state=45) # %70 train %10 val\n",
        "print(X_train.shape)\n",
        "print(X_val.shape)\n",
        "print(X_test.shape)\n",
        "print(Y_test.shape)"
      ],
      "metadata": {
        "colab": {
          "base_uri": "https://localhost:8080/"
        },
        "id": "aMpH4lK-_s4l",
        "outputId": "6732ff77-c0b3-4e29-941c-5cfac5fd19f5"
      },
      "execution_count": 10,
      "outputs": [
        {
          "output_type": "stream",
          "name": "stdout",
          "text": [
            "(654, 3600)\n",
            "(94, 3600)\n",
            "(188, 3600)\n",
            "(188, 9)\n"
          ]
        }
      ]
    },
    {
      "cell_type": "code",
      "source": [
        "X_train = np.expand_dims(X_train, axis=1)\n",
        "X_val = np.expand_dims(X_val, axis=1)\n",
        "X_test = np.expand_dims(X_test, axis=1)\n",
        "Y_train = np.expand_dims(Y_train, axis=1)\n",
        "Y_val = np.expand_dims(Y_val, axis=1)\n",
        "Y_test = np.expand_dims(Y_test, axis=1)"
      ],
      "metadata": {
        "id": "D443VkNR_uth"
      },
      "execution_count": 11,
      "outputs": []
    },
    {
      "cell_type": "markdown",
      "source": [
        "# Create GRU Model"
      ],
      "metadata": {
        "id": "kVOamAGsOUog"
      }
    },
    {
      "cell_type": "code",
      "source": [
        "model = Sequential()\n",
        "model.add(layers.GRU(32, input_shape=(1, 3600 ), return_sequences=True))\n",
        "model.add(layers.Dense(8))\n",
        "model.add(Dense(9, activation='softmax')) "
      ],
      "metadata": {
        "id": "er5QW6FCA0Ep"
      },
      "execution_count": 12,
      "outputs": []
    },
    {
      "cell_type": "code",
      "source": [
        "model.build()\n",
        "model.summary()"
      ],
      "metadata": {
        "colab": {
          "base_uri": "https://localhost:8080/"
        },
        "id": "Uw1lue6ubDcy",
        "outputId": "dec4bacf-8b78-4766-ecaf-e2fcd6cbfc77"
      },
      "execution_count": 13,
      "outputs": [
        {
          "output_type": "stream",
          "name": "stdout",
          "text": [
            "Model: \"sequential\"\n",
            "_________________________________________________________________\n",
            " Layer (type)                Output Shape              Param #   \n",
            "=================================================================\n",
            " gru (GRU)                   (None, 1, 32)             348864    \n",
            "                                                                 \n",
            " dense (Dense)               (None, 1, 8)              264       \n",
            "                                                                 \n",
            " dense_1 (Dense)             (None, 1, 9)              81        \n",
            "                                                                 \n",
            "=================================================================\n",
            "Total params: 349,209\n",
            "Trainable params: 349,209\n",
            "Non-trainable params: 0\n",
            "_________________________________________________________________\n"
          ]
        }
      ]
    },
    {
      "cell_type": "code",
      "source": [
        "adam = Adam(lr=1e-3)\n",
        "model.compile(loss='categorical_crossentropy', metrics=['accuracy'], optimizer=adam)"
      ],
      "metadata": {
        "colab": {
          "base_uri": "https://localhost:8080/"
        },
        "id": "WjucslYcA3Xi",
        "outputId": "1d1d51f4-01b4-4597-f747-06dd32bfd52c"
      },
      "execution_count": 14,
      "outputs": [
        {
          "output_type": "stream",
          "name": "stderr",
          "text": [
            "/usr/local/lib/python3.8/dist-packages/keras/optimizers/optimizer_v2/adam.py:110: UserWarning: The `lr` argument is deprecated, use `learning_rate` instead.\n",
            "  super(Adam, self).__init__(name, **kwargs)\n"
          ]
        }
      ]
    },
    {
      "cell_type": "markdown",
      "source": [
        "# Model Save and Early Stop"
      ],
      "metadata": {
        "id": "5Rftg8sQZdFv"
      }
    },
    {
      "cell_type": "code",
      "source": [
        "\n",
        "model_name_save= '/content/nn_model.hdf5'\n",
        "checkpoint = tf.keras.callbacks.ModelCheckpoint(model_name_save, save_freq='epoch', monitor='val_accuracy', verbose=1, save_best_only=True, mode='max')  \n",
        "early_stop = tf.keras.callbacks.EarlyStopping(  monitor='val_accuracy', patience=12, verbose=1,  mode='max',restore_best_weights=False)\n",
        "reduce_lr = tf.keras.callbacks.ReduceLROnPlateau(  monitor='val_accuracy', factor=0.3, patience=7,  min_lr=1e-5, verbose=1,  mode='max')\n"
      ],
      "metadata": {
        "id": "CObYaNZ6A6qO"
      },
      "execution_count": 15,
      "outputs": []
    },
    {
      "cell_type": "markdown",
      "source": [
        "# Training Model CNN"
      ],
      "metadata": {
        "id": "KOm0EBT7OarP"
      }
    },
    {
      "cell_type": "code",
      "source": [
        "history = model.fit(X_train, Y_train, validation_data=(X_val, Y_val), epochs=50, batch_size=64,callbacks=[checkpoint,early_stop,reduce_lr])"
      ],
      "metadata": {
        "colab": {
          "base_uri": "https://localhost:8080/"
        },
        "id": "gSSI0rMXBBol",
        "outputId": "34eb83b1-76d4-454d-a2cd-9e83feaaf5a7"
      },
      "execution_count": 16,
      "outputs": [
        {
          "output_type": "stream",
          "name": "stdout",
          "text": [
            "Epoch 1/50\n",
            "11/11 [==============================] - ETA: 0s - loss: 1.8665 - accuracy: 0.4144\n",
            "Epoch 1: val_accuracy improved from -inf to 0.60638, saving model to /content/nn_model.hdf5\n",
            "11/11 [==============================] - 4s 87ms/step - loss: 1.8665 - accuracy: 0.4144 - val_loss: 1.5293 - val_accuracy: 0.6064 - lr: 0.0010\n",
            "Epoch 2/50\n",
            "10/11 [==========================>...] - ETA: 0s - loss: 1.3088 - accuracy: 0.6969\n",
            "Epoch 2: val_accuracy improved from 0.60638 to 0.70213, saving model to /content/nn_model.hdf5\n",
            "11/11 [==============================] - 0s 19ms/step - loss: 1.3034 - accuracy: 0.6957 - val_loss: 1.1298 - val_accuracy: 0.7021 - lr: 0.0010\n",
            "Epoch 3/50\n",
            " 6/11 [===============>..............] - ETA: 0s - loss: 0.9800 - accuracy: 0.7760\n",
            "Epoch 3: val_accuracy improved from 0.70213 to 0.89362, saving model to /content/nn_model.hdf5\n",
            "11/11 [==============================] - 0s 17ms/step - loss: 0.9602 - accuracy: 0.7936 - val_loss: 0.8746 - val_accuracy: 0.8936 - lr: 0.0010\n",
            "Epoch 4/50\n",
            "11/11 [==============================] - ETA: 0s - loss: 0.7229 - accuracy: 0.9312\n",
            "Epoch 4: val_accuracy improved from 0.89362 to 0.92553, saving model to /content/nn_model.hdf5\n",
            "11/11 [==============================] - 0s 19ms/step - loss: 0.7229 - accuracy: 0.9312 - val_loss: 0.6984 - val_accuracy: 0.9255 - lr: 0.0010\n",
            "Epoch 5/50\n",
            "10/11 [==========================>...] - ETA: 0s - loss: 0.5618 - accuracy: 0.9703\n",
            "Epoch 5: val_accuracy improved from 0.92553 to 0.94681, saving model to /content/nn_model.hdf5\n",
            "11/11 [==============================] - 0s 19ms/step - loss: 0.5569 - accuracy: 0.9709 - val_loss: 0.5650 - val_accuracy: 0.9468 - lr: 0.0010\n",
            "Epoch 6/50\n",
            "11/11 [==============================] - ETA: 0s - loss: 0.4319 - accuracy: 0.9786\n",
            "Epoch 6: val_accuracy did not improve from 0.94681\n",
            "11/11 [==============================] - 0s 15ms/step - loss: 0.4319 - accuracy: 0.9786 - val_loss: 0.4606 - val_accuracy: 0.9468 - lr: 0.0010\n",
            "Epoch 7/50\n",
            " 9/11 [=======================>......] - ETA: 0s - loss: 0.3373 - accuracy: 0.9896\n",
            "Epoch 7: val_accuracy improved from 0.94681 to 0.95745, saving model to /content/nn_model.hdf5\n",
            "11/11 [==============================] - 0s 22ms/step - loss: 0.3377 - accuracy: 0.9878 - val_loss: 0.3802 - val_accuracy: 0.9574 - lr: 0.0010\n",
            "Epoch 8/50\n",
            " 6/11 [===============>..............] - ETA: 0s - loss: 0.2597 - accuracy: 0.9896\n",
            "Epoch 8: val_accuracy did not improve from 0.95745\n",
            "11/11 [==============================] - 0s 15ms/step - loss: 0.2652 - accuracy: 0.9908 - val_loss: 0.3143 - val_accuracy: 0.9574 - lr: 0.0010\n",
            "Epoch 9/50\n",
            " 6/11 [===============>..............] - ETA: 0s - loss: 0.2065 - accuracy: 0.9922\n",
            "Epoch 9: val_accuracy improved from 0.95745 to 0.96809, saving model to /content/nn_model.hdf5\n",
            "11/11 [==============================] - 0s 19ms/step - loss: 0.2096 - accuracy: 0.9908 - val_loss: 0.2684 - val_accuracy: 0.9681 - lr: 0.0010\n",
            "Epoch 10/50\n",
            " 9/11 [=======================>......] - ETA: 0s - loss: 0.1621 - accuracy: 0.9948\n",
            "Epoch 10: val_accuracy did not improve from 0.96809\n",
            "11/11 [==============================] - 0s 16ms/step - loss: 0.1676 - accuracy: 0.9939 - val_loss: 0.2323 - val_accuracy: 0.9681 - lr: 0.0010\n",
            "Epoch 11/50\n",
            "10/11 [==========================>...] - ETA: 0s - loss: 0.1353 - accuracy: 0.9937\n",
            "Epoch 11: val_accuracy did not improve from 0.96809\n",
            "11/11 [==============================] - 0s 15ms/step - loss: 0.1361 - accuracy: 0.9939 - val_loss: 0.2045 - val_accuracy: 0.9681 - lr: 0.0010\n",
            "Epoch 12/50\n",
            "10/11 [==========================>...] - ETA: 0s - loss: 0.1131 - accuracy: 0.9937\n",
            "Epoch 12: val_accuracy did not improve from 0.96809\n",
            "11/11 [==============================] - 0s 16ms/step - loss: 0.1121 - accuracy: 0.9939 - val_loss: 0.1849 - val_accuracy: 0.9681 - lr: 0.0010\n",
            "Epoch 13/50\n",
            "11/11 [==============================] - ETA: 0s - loss: 0.0932 - accuracy: 0.9939\n",
            "Epoch 13: val_accuracy did not improve from 0.96809\n",
            "11/11 [==============================] - 0s 14ms/step - loss: 0.0932 - accuracy: 0.9939 - val_loss: 0.1674 - val_accuracy: 0.9681 - lr: 0.0010\n",
            "Epoch 14/50\n",
            " 6/11 [===============>..............] - ETA: 0s - loss: 0.0811 - accuracy: 0.9922\n",
            "Epoch 14: val_accuracy did not improve from 0.96809\n",
            "11/11 [==============================] - 0s 13ms/step - loss: 0.0792 - accuracy: 0.9939 - val_loss: 0.1547 - val_accuracy: 0.9681 - lr: 0.0010\n",
            "Epoch 15/50\n",
            " 6/11 [===============>..............] - ETA: 0s - loss: 0.0610 - accuracy: 0.9974\n",
            "Epoch 15: val_accuracy did not improve from 0.96809\n",
            "11/11 [==============================] - 0s 13ms/step - loss: 0.0682 - accuracy: 0.9939 - val_loss: 0.1458 - val_accuracy: 0.9681 - lr: 0.0010\n",
            "Epoch 16/50\n",
            "11/11 [==============================] - ETA: 0s - loss: 0.0599 - accuracy: 0.9939\n",
            "Epoch 16: val_accuracy did not improve from 0.96809\n",
            "\n",
            "Epoch 16: ReduceLROnPlateau reducing learning rate to 0.0003000000142492354.\n",
            "11/11 [==============================] - 0s 17ms/step - loss: 0.0599 - accuracy: 0.9939 - val_loss: 0.1386 - val_accuracy: 0.9681 - lr: 0.0010\n",
            "Epoch 17/50\n",
            "11/11 [==============================] - ETA: 0s - loss: 0.0539 - accuracy: 0.9954\n",
            "Epoch 17: val_accuracy did not improve from 0.96809\n",
            "11/11 [==============================] - 0s 15ms/step - loss: 0.0539 - accuracy: 0.9954 - val_loss: 0.1368 - val_accuracy: 0.9681 - lr: 3.0000e-04\n",
            "Epoch 18/50\n",
            "11/11 [==============================] - ETA: 0s - loss: 0.0520 - accuracy: 0.9954\n",
            "Epoch 18: val_accuracy did not improve from 0.96809\n",
            "11/11 [==============================] - 0s 16ms/step - loss: 0.0520 - accuracy: 0.9954 - val_loss: 0.1350 - val_accuracy: 0.9681 - lr: 3.0000e-04\n",
            "Epoch 19/50\n",
            " 6/11 [===============>..............] - ETA: 0s - loss: 0.0557 - accuracy: 0.9922\n",
            "Epoch 19: val_accuracy did not improve from 0.96809\n",
            "11/11 [==============================] - 0s 13ms/step - loss: 0.0502 - accuracy: 0.9954 - val_loss: 0.1338 - val_accuracy: 0.9681 - lr: 3.0000e-04\n",
            "Epoch 20/50\n",
            " 7/11 [==================>...........] - ETA: 0s - loss: 0.0542 - accuracy: 0.9933\n",
            "Epoch 20: val_accuracy did not improve from 0.96809\n",
            "11/11 [==============================] - 0s 11ms/step - loss: 0.0482 - accuracy: 0.9954 - val_loss: 0.1319 - val_accuracy: 0.9681 - lr: 3.0000e-04\n",
            "Epoch 21/50\n",
            " 6/11 [===============>..............] - ETA: 0s - loss: 0.0416 - accuracy: 0.9974\n",
            "Epoch 21: val_accuracy did not improve from 0.96809\n",
            "11/11 [==============================] - 0s 12ms/step - loss: 0.0465 - accuracy: 0.9954 - val_loss: 0.1300 - val_accuracy: 0.9681 - lr: 3.0000e-04\n",
            "Epoch 21: early stopping\n"
          ]
        }
      ]
    },
    {
      "cell_type": "markdown",
      "source": [
        "# Load Model"
      ],
      "metadata": {
        "id": "hrYj3xOqOIq4"
      }
    },
    {
      "cell_type": "code",
      "source": [
        "model.load_weights(model_name_save)"
      ],
      "metadata": {
        "id": "N812OVQlyer7"
      },
      "execution_count": 17,
      "outputs": []
    },
    {
      "cell_type": "markdown",
      "source": [
        "# Let's predict test data"
      ],
      "metadata": {
        "id": "ukoBNUo4OHVa"
      }
    },
    {
      "cell_type": "code",
      "source": [
        "y_pred = model.predict(X_test, batch_size=1)\n",
        "y_pred = y_pred.squeeze()\n",
        "y_pred = np.argmax(y_pred, axis=1)\n",
        "\n"
      ],
      "metadata": {
        "colab": {
          "base_uri": "https://localhost:8080/"
        },
        "id": "8cFKzW7LBGdB",
        "outputId": "6baf7789-abc4-47fe-b5b0-789923106e20"
      },
      "execution_count": 18,
      "outputs": [
        {
          "output_type": "stream",
          "name": "stdout",
          "text": [
            "188/188 [==============================] - 1s 2ms/step\n"
          ]
        }
      ]
    },
    {
      "cell_type": "code",
      "source": [
        "y_pred.shape"
      ],
      "metadata": {
        "colab": {
          "base_uri": "https://localhost:8080/"
        },
        "id": "0OfGaiiVPX0F",
        "outputId": "f3cde078-0e76-44ef-ed93-e3da68404c9d"
      },
      "execution_count": 19,
      "outputs": [
        {
          "output_type": "execute_result",
          "data": {
            "text/plain": [
              "(188,)"
            ]
          },
          "metadata": {},
          "execution_count": 19
        }
      ]
    },
    {
      "cell_type": "code",
      "source": [
        "y_pred=np.expand_dims(y_pred,axis=1)"
      ],
      "metadata": {
        "id": "qvpzh81gmLr8"
      },
      "execution_count": 20,
      "outputs": []
    },
    {
      "cell_type": "code",
      "source": [
        "Y_test=np.argmax(Y_test,axis=2)"
      ],
      "metadata": {
        "id": "QdYyvBPGpcKe"
      },
      "execution_count": 21,
      "outputs": []
    },
    {
      "cell_type": "code",
      "source": [
        "Y_test.shape\n"
      ],
      "metadata": {
        "colab": {
          "base_uri": "https://localhost:8080/"
        },
        "id": "0PQP3IH1pFav",
        "outputId": "fec99a79-d178-4d8a-8d63-49aa68043782"
      },
      "execution_count": 22,
      "outputs": [
        {
          "output_type": "execute_result",
          "data": {
            "text/plain": [
              "(188, 1)"
            ]
          },
          "metadata": {},
          "execution_count": 22
        }
      ]
    },
    {
      "cell_type": "code",
      "source": [
        "y_pred.shape"
      ],
      "metadata": {
        "colab": {
          "base_uri": "https://localhost:8080/"
        },
        "id": "0s0EsNvmqaec",
        "outputId": "13a6e2c5-8624-4024-94ae-684b35d2a356"
      },
      "execution_count": 23,
      "outputs": [
        {
          "output_type": "execute_result",
          "data": {
            "text/plain": [
              "(188, 1)"
            ]
          },
          "metadata": {},
          "execution_count": 23
        }
      ]
    },
    {
      "cell_type": "code",
      "source": [
        "Y_test"
      ],
      "metadata": {
        "colab": {
          "base_uri": "https://localhost:8080/"
        },
        "id": "VeRRMJXoqdG_",
        "outputId": "5f5421d0-ad67-4622-ff5d-06b02d43c33d"
      },
      "execution_count": 24,
      "outputs": [
        {
          "output_type": "execute_result",
          "data": {
            "text/plain": [
              "array([[6],\n",
              "       [1],\n",
              "       [2],\n",
              "       [3],\n",
              "       [4],\n",
              "       [8],\n",
              "       [2],\n",
              "       [2],\n",
              "       [8],\n",
              "       [4],\n",
              "       [8],\n",
              "       [8],\n",
              "       [6],\n",
              "       [8],\n",
              "       [8],\n",
              "       [6],\n",
              "       [3],\n",
              "       [1],\n",
              "       [1],\n",
              "       [1],\n",
              "       [0],\n",
              "       [5],\n",
              "       [8],\n",
              "       [8],\n",
              "       [6],\n",
              "       [5],\n",
              "       [5],\n",
              "       [8],\n",
              "       [6],\n",
              "       [4],\n",
              "       [2],\n",
              "       [7],\n",
              "       [4],\n",
              "       [3],\n",
              "       [0],\n",
              "       [4],\n",
              "       [3],\n",
              "       [8],\n",
              "       [6],\n",
              "       [2],\n",
              "       [5],\n",
              "       [2],\n",
              "       [8],\n",
              "       [0],\n",
              "       [1],\n",
              "       [8],\n",
              "       [7],\n",
              "       [8],\n",
              "       [2],\n",
              "       [7],\n",
              "       [4],\n",
              "       [5],\n",
              "       [1],\n",
              "       [5],\n",
              "       [7],\n",
              "       [8],\n",
              "       [8],\n",
              "       [2],\n",
              "       [7],\n",
              "       [0],\n",
              "       [4],\n",
              "       [2],\n",
              "       [7],\n",
              "       [3],\n",
              "       [0],\n",
              "       [3],\n",
              "       [4],\n",
              "       [7],\n",
              "       [3],\n",
              "       [2],\n",
              "       [4],\n",
              "       [5],\n",
              "       [5],\n",
              "       [4],\n",
              "       [7],\n",
              "       [6],\n",
              "       [4],\n",
              "       [5],\n",
              "       [7],\n",
              "       [0],\n",
              "       [0],\n",
              "       [5],\n",
              "       [5],\n",
              "       [0],\n",
              "       [7],\n",
              "       [5],\n",
              "       [5],\n",
              "       [1],\n",
              "       [2],\n",
              "       [4],\n",
              "       [1],\n",
              "       [6],\n",
              "       [2],\n",
              "       [6],\n",
              "       [8],\n",
              "       [0],\n",
              "       [0],\n",
              "       [0],\n",
              "       [4],\n",
              "       [1],\n",
              "       [7],\n",
              "       [2],\n",
              "       [5],\n",
              "       [3],\n",
              "       [5],\n",
              "       [3],\n",
              "       [2],\n",
              "       [5],\n",
              "       [5],\n",
              "       [2],\n",
              "       [1],\n",
              "       [3],\n",
              "       [5],\n",
              "       [8],\n",
              "       [5],\n",
              "       [3],\n",
              "       [1],\n",
              "       [4],\n",
              "       [3],\n",
              "       [1],\n",
              "       [1],\n",
              "       [1],\n",
              "       [8],\n",
              "       [0],\n",
              "       [3],\n",
              "       [7],\n",
              "       [7],\n",
              "       [5],\n",
              "       [5],\n",
              "       [0],\n",
              "       [0],\n",
              "       [6],\n",
              "       [2],\n",
              "       [3],\n",
              "       [8],\n",
              "       [6],\n",
              "       [0],\n",
              "       [5],\n",
              "       [3],\n",
              "       [1],\n",
              "       [0],\n",
              "       [0],\n",
              "       [3],\n",
              "       [0],\n",
              "       [7],\n",
              "       [0],\n",
              "       [6],\n",
              "       [1],\n",
              "       [0],\n",
              "       [2],\n",
              "       [8],\n",
              "       [1],\n",
              "       [4],\n",
              "       [7],\n",
              "       [4],\n",
              "       [6],\n",
              "       [5],\n",
              "       [1],\n",
              "       [8],\n",
              "       [0],\n",
              "       [5],\n",
              "       [1],\n",
              "       [4],\n",
              "       [3],\n",
              "       [6],\n",
              "       [8],\n",
              "       [2],\n",
              "       [8],\n",
              "       [0],\n",
              "       [5],\n",
              "       [8],\n",
              "       [0],\n",
              "       [1],\n",
              "       [5],\n",
              "       [1],\n",
              "       [7],\n",
              "       [7],\n",
              "       [1],\n",
              "       [2],\n",
              "       [7],\n",
              "       [4],\n",
              "       [7],\n",
              "       [0],\n",
              "       [3],\n",
              "       [0],\n",
              "       [2],\n",
              "       [4],\n",
              "       [5]])"
            ]
          },
          "metadata": {},
          "execution_count": 24
        }
      ]
    },
    {
      "cell_type": "code",
      "source": [
        "y_pred"
      ],
      "metadata": {
        "colab": {
          "base_uri": "https://localhost:8080/"
        },
        "id": "2sQWHqaFqgac",
        "outputId": "5904cb19-fc29-490a-c08c-cd94acc4f9c5"
      },
      "execution_count": 25,
      "outputs": [
        {
          "output_type": "execute_result",
          "data": {
            "text/plain": [
              "array([[6],\n",
              "       [1],\n",
              "       [2],\n",
              "       [3],\n",
              "       [4],\n",
              "       [8],\n",
              "       [2],\n",
              "       [2],\n",
              "       [8],\n",
              "       [4],\n",
              "       [8],\n",
              "       [8],\n",
              "       [6],\n",
              "       [8],\n",
              "       [8],\n",
              "       [6],\n",
              "       [3],\n",
              "       [1],\n",
              "       [1],\n",
              "       [1],\n",
              "       [0],\n",
              "       [5],\n",
              "       [8],\n",
              "       [8],\n",
              "       [6],\n",
              "       [5],\n",
              "       [5],\n",
              "       [8],\n",
              "       [6],\n",
              "       [4],\n",
              "       [2],\n",
              "       [7],\n",
              "       [4],\n",
              "       [3],\n",
              "       [0],\n",
              "       [4],\n",
              "       [3],\n",
              "       [8],\n",
              "       [6],\n",
              "       [2],\n",
              "       [5],\n",
              "       [2],\n",
              "       [8],\n",
              "       [0],\n",
              "       [1],\n",
              "       [8],\n",
              "       [7],\n",
              "       [8],\n",
              "       [7],\n",
              "       [7],\n",
              "       [4],\n",
              "       [5],\n",
              "       [1],\n",
              "       [5],\n",
              "       [7],\n",
              "       [8],\n",
              "       [8],\n",
              "       [2],\n",
              "       [7],\n",
              "       [0],\n",
              "       [4],\n",
              "       [2],\n",
              "       [7],\n",
              "       [3],\n",
              "       [0],\n",
              "       [3],\n",
              "       [4],\n",
              "       [7],\n",
              "       [3],\n",
              "       [2],\n",
              "       [4],\n",
              "       [5],\n",
              "       [5],\n",
              "       [4],\n",
              "       [7],\n",
              "       [7],\n",
              "       [4],\n",
              "       [5],\n",
              "       [7],\n",
              "       [0],\n",
              "       [0],\n",
              "       [5],\n",
              "       [5],\n",
              "       [0],\n",
              "       [7],\n",
              "       [5],\n",
              "       [5],\n",
              "       [1],\n",
              "       [2],\n",
              "       [4],\n",
              "       [1],\n",
              "       [6],\n",
              "       [2],\n",
              "       [6],\n",
              "       [8],\n",
              "       [0],\n",
              "       [0],\n",
              "       [0],\n",
              "       [4],\n",
              "       [2],\n",
              "       [7],\n",
              "       [2],\n",
              "       [5],\n",
              "       [3],\n",
              "       [5],\n",
              "       [3],\n",
              "       [2],\n",
              "       [5],\n",
              "       [5],\n",
              "       [2],\n",
              "       [1],\n",
              "       [3],\n",
              "       [5],\n",
              "       [8],\n",
              "       [5],\n",
              "       [8],\n",
              "       [1],\n",
              "       [4],\n",
              "       [3],\n",
              "       [1],\n",
              "       [1],\n",
              "       [1],\n",
              "       [8],\n",
              "       [0],\n",
              "       [3],\n",
              "       [7],\n",
              "       [7],\n",
              "       [5],\n",
              "       [4],\n",
              "       [0],\n",
              "       [0],\n",
              "       [6],\n",
              "       [2],\n",
              "       [7],\n",
              "       [8],\n",
              "       [6],\n",
              "       [0],\n",
              "       [5],\n",
              "       [3],\n",
              "       [1],\n",
              "       [0],\n",
              "       [0],\n",
              "       [3],\n",
              "       [0],\n",
              "       [8],\n",
              "       [0],\n",
              "       [6],\n",
              "       [1],\n",
              "       [0],\n",
              "       [2],\n",
              "       [8],\n",
              "       [1],\n",
              "       [4],\n",
              "       [7],\n",
              "       [4],\n",
              "       [6],\n",
              "       [5],\n",
              "       [1],\n",
              "       [8],\n",
              "       [0],\n",
              "       [5],\n",
              "       [1],\n",
              "       [4],\n",
              "       [3],\n",
              "       [6],\n",
              "       [8],\n",
              "       [2],\n",
              "       [8],\n",
              "       [0],\n",
              "       [5],\n",
              "       [8],\n",
              "       [0],\n",
              "       [1],\n",
              "       [5],\n",
              "       [1],\n",
              "       [7],\n",
              "       [7],\n",
              "       [1],\n",
              "       [2],\n",
              "       [7],\n",
              "       [4],\n",
              "       [7],\n",
              "       [0],\n",
              "       [3],\n",
              "       [0],\n",
              "       [2],\n",
              "       [4],\n",
              "       [5]])"
            ]
          },
          "metadata": {},
          "execution_count": 25
        }
      ]
    },
    {
      "cell_type": "markdown",
      "source": [
        "# Visualization model training"
      ],
      "metadata": {
        "id": "eKjHbjpBO7ak"
      }
    },
    {
      "cell_type": "code",
      "source": [
        "xlabel = 'Epoch'\n",
        "legends = ['Training', 'Validation']\n",
        "\n",
        "ylim_pad = [0.01, 0.1]\n",
        "plt.figure(figsize=(20, 8))\n",
        "\n",
        "# Plot training & validation Accuracy values\n",
        "y1 = history.history['accuracy']\n",
        "y2 = history.history['val_accuracy']\n",
        "\n",
        "min_y = min(min(y1), min(y2))-ylim_pad[0]\n",
        "max_y = max(max(y1), max(y2))+ylim_pad[0]\n",
        "\n",
        "plt.subplot(121)\n",
        "plt.plot(y1)\n",
        "plt.plot(y2)\n",
        "plt.title('Model Accuracy', fontsize=15)\n",
        "plt.xlabel(xlabel, fontsize=15)\n",
        "plt.ylabel('Accuracy', fontsize=15)\n",
        "plt.ylim(min_y, max_y)\n",
        "plt.legend(legends, loc='upper left')\n",
        "plt.tight_layout()  \n",
        "                         \n",
        "# Plot training & validation loss values\n",
        "y1 = history.history['loss']\n",
        "y2 = history.history['val_loss']\n",
        "\n",
        "min_y = min(min(y1), min(y2))-ylim_pad[1]\n",
        "max_y = max(max(y1), max(y2))+ylim_pad[1]\n",
        "    \n",
        "plt.subplot(122)\n",
        "plt.plot(y1)\n",
        "plt.plot(y2)\n",
        "plt.title('Model Loss', fontsize=15)\n",
        "plt.xlabel(xlabel, fontsize=15)\n",
        "plt.ylabel('Loss', fontsize=15)\n",
        "plt.ylim(min_y, max_y)\n",
        "plt.legend(legends, loc='upper left')\n",
        "\n",
        "plt.tight_layout()                  \n",
        "plt.show()"
      ],
      "metadata": {
        "colab": {
          "base_uri": "https://localhost:8080/",
          "height": 585
        },
        "id": "sOZTE9ctOw-E",
        "outputId": "5d932ccc-a656-4a6c-e49c-9901bb1b89b7"
      },
      "execution_count": 26,
      "outputs": [
        {
          "output_type": "display_data",
          "data": {
            "text/plain": [
              "<Figure size 1440x576 with 2 Axes>"
            ],
            "image/png": "[encoded data removed]"
          },
          "metadata": {
            "needs_background": "light"
          }
        }
      ]
    },
    {
      "cell_type": "markdown",
      "source": [
        "# Accuracy score, confusion matrix and f1 score"
      ],
      "metadata": {
        "id": "dvQOeXVTPGO0"
      }
    },
    {
      "cell_type": "code",
      "source": [
        "def scores(y_true,Y_pred):\n",
        "  accuracy = accuracy_score(y_true,y_pred)\n",
        "  precision = precision_score(y_true,y_pred,average='macro')\n",
        "  recall = recall_score(y_true,y_pred,average='macro')\n",
        "  f1 = f1_score(y_true,y_pred,average='macro')\n",
        "  confusionmatrix = confusion_matrix(y_true, y_pred)\n",
        "  print(\"=\"*90)\n",
        "  print(\"Result Confusion Matrix\")\n",
        "  print(\"-\"*90)\n",
        "  print(\"Accuracy: \", accuracy*100, \"%\")\n",
        "  print(\"Precision: \", precision*100, \"%\")\n",
        "  print(\"Recall: \", recall*100, \"%\")\n",
        " \n",
        "  print(\"f1: \", f1*100, \"%\")\n",
        "  print(\"=\"*90)\n",
        "  labels = {'healthy','missing','crack','spall','chip5a','chip4a','chip3a','chip2a','chip1a'}\n",
        "  df_cm = pd.DataFrame(confusionmatrix, labels,labels)\n",
        "  plt.figure(figsize=(10,7))\n",
        "  plt.title(\"Confusion Matrix\", fontsize=14)\n",
        "  plt.xticks(range(len(labels)), labels, fontsize=12,rotation=\"vertical\")\n",
        "  plt.yticks(range(len(labels)), labels, fontsize=12)\n",
        "  sns.set(font_scale=1.4) # for label size\n",
        "  sns.heatmap(df_cm, annot=True, cmap='Greens', annot_kws={\"size\": 16}) # font size\n",
        "\n",
        "  plt.show()\n",
        "\n",
        "  cls_report_print = classification_report(y_true, y_pred, target_names=labels)\n",
        "  cls_report = classification_report(y_true, y_pred, target_names=labels, output_dict=True)\n",
        "  total1=sum(sum(confusionmatrix))\n",
        "\n",
        "  ##### From confusion matrix calculate accuracy\n",
        "  print(\"=\"*90)\n",
        "  sensitivity1 = confusionmatrix[0,0]/(confusionmatrix[0,0]+confusionmatrix[0,1])\n",
        "  print(\"%s%.2f%s\"% (\"Sensitivity: \", sensitivity1*100, \"%\"))\n",
        "  specificity1 = confusionmatrix[1,1]/(confusionmatrix[1,0]+confusionmatrix[1,1])\n",
        "  print(\"%s%.2f%s\"% (\"Specificity: \", specificity1*100, \"%\"))\n",
        "\n",
        "  print(\"\\n\")\n",
        "  print(\"=\"*90)\n",
        "  print(\"=\"*90)\n",
        "  print(cls_report_print)\n",
        "  print(\"=\"*90)\n",
        "\n",
        "scores(Y_test,y_pred)"
      ],
      "metadata": {
        "id": "7Vv70yl-d_sT",
        "colab": {
          "base_uri": "https://localhost:8080/",
          "height": 1000
        },
        "outputId": "96eeefa0-a9bd-4cca-f952-98aae9c8e3d5"
      },
      "execution_count": 27,
      "outputs": [
        {
          "output_type": "stream",
          "name": "stdout",
          "text": [
            "==========================================================================================\n",
            "Result Confusion Matrix\n",
            "------------------------------------------------------------------------------------------\n",
            "Accuracy:  96.27659574468085 %\n",
            "Precision:  96.44688644688644 %\n",
            "Recall:  95.91485728912629 %\n",
            "f1:  96.07082966031535 %\n",
            "==========================================================================================\n"
          ]
        },
        {
          "output_type": "display_data",
          "data": {
            "text/plain": [
              "<Figure size 720x504 with 2 Axes>"
            ],
            "image/png": "[encoded data removed]"
          },
          "metadata": {
            "needs_background": "light"
          }
        },
        {
          "output_type": "stream",
          "name": "stdout",
          "text": [
            "==========================================================================================\n",
            "Sensitivity: 100.00%\n",
            "Specificity: 100.00%\n",
            "\n",
            "\n",
            "==========================================================================================\n",
            "==========================================================================================\n",
            "              precision    recall  f1-score   support\n",
            "\n",
            "      chip2a       1.00      1.00      1.00        25\n",
            "      chip5a       1.00      0.95      0.98        22\n",
            "      chip3a       0.95      0.95      0.95        20\n",
            "     missing       1.00      0.89      0.94        18\n",
            "      chip1a       0.95      1.00      0.97        19\n",
            "     healthy       1.00      0.96      0.98        27\n",
            "       spall       1.00      0.93      0.96        14\n",
            "      chip4a       0.86      0.95      0.90        19\n",
            "       crack       0.92      1.00      0.96        24\n",
            "\n",
            "    accuracy                           0.96       188\n",
            "   macro avg       0.96      0.96      0.96       188\n",
            "weighted avg       0.97      0.96      0.96       188\n",
            "\n",
            "==========================================================================================\n"
          ]
        }
      ]
    }
  ]
}